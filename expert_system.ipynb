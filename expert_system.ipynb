{
 "cells": [
  {
   "cell_type": "markdown",
   "metadata": {},
   "source": [
    "salience means priority\n"
   ]
  },
  {
   "cell_type": "code",
   "execution_count": 1,
   "metadata": {},
   "outputs": [],
   "source": [
    "from experta import *\n"
   ]
  },
  {
   "cell_type": "code",
   "execution_count": 2,
   "metadata": {},
   "outputs": [],
   "source": [
    "list_of_disease =[]\n",
    "symptoms_of_disease=[]\n",
    "symptom_map={}\n",
    "describe_map={}\n",
    "treatment_map={}\n",
    "\n"
   ]
  },
  {
   "cell_type": "code",
   "execution_count": 3,
   "metadata": {},
   "outputs": [],
   "source": [
    "def preprocess():\n",
    "    global list_of_diseases,symptoms_of_disease,symptom_map,descibe_map,treatment_map\n",
    "    diseases=open(\"diseases.txt\")\n",
    "    disease_all = diseases.read()\n",
    "    diseases_list=disease_all.split(\"\\n\")\n",
    "    diseases.close()\n",
    "    for single_disease in diseases_list:\n",
    "        s_disease_file = open(\"symptoms/\"+single_disease+\".txt\")\n",
    "        a = s_disease_file.read()\n",
    "        symp_list=a.split(\"\\n\")\n",
    "        symptoms_of_disease.append(symp_list)\n",
    "        symptom_map[str(symp_list)]= single_disease\n",
    "        s_disease_file.close()\n",
    "        \n",
    "        disease_file_describe = open(\"descriptions/\"+single_disease+\".txt\")\n",
    "        b = disease_file_describe.read()\n",
    "        describe_map[single_disease]= b\n",
    "        disease_file_describe.close()\n",
    "        \n",
    "        disease_file_treatement = open(\"treatments/\"+single_disease+\".txt\")\n",
    "        c =  disease_file_treatement.read()\n",
    "        treatment_map[single_disease]= c\n",
    "        disease_file_describe.close()\n",
    "        \n",
    "    "
   ]
  },
  {
   "cell_type": "code",
   "execution_count": 4,
   "metadata": {},
   "outputs": [],
   "source": [
    "def identify_disease(*args):\n",
    "    symptom_list=[]\n",
    "    for a in args:\n",
    "        symptom_list.append(a)\n",
    "    return symptom_map[str(symptom_list)]"
   ]
  },
  {
   "cell_type": "code",
   "execution_count": 5,
   "metadata": {},
   "outputs": [],
   "source": [
    "def get_description(disease):\n",
    "    return describe_map[disease]\n"
   ]
  },
  {
   "cell_type": "code",
   "execution_count": 6,
   "metadata": {},
   "outputs": [],
   "source": [
    "def get_treatment(disease):\n",
    "\n",
    "    return treatment_map[disease]"
   ]
  },
  {
   "cell_type": "code",
   "execution_count": 7,
   "metadata": {},
   "outputs": [],
   "source": [
    "def if_not_matching(disease):\n",
    "    \n",
    "    disease_detail=get_description(disease)\n",
    "    disease_treatment= get_treatment(disease)\n",
    "    print(\"the most probable disease is \",disease,\"\\n\")\n",
    "    print(\"the short description is \",disease_detail,\"\\n\")\n",
    "    print(\"the common medicines are \",disease_treatment, \"\\n\")\n",
    "    \n",
    "    \n",
    "    \n",
    "    \n",
    "    "
   ]
  },
  {
   "cell_type": "code",
   "execution_count": 8,
   "metadata": {},
   "outputs": [],
   "source": [
    "class Welcome(KnowledgeEngine):\n",
    "    @DefFacts()\n",
    "    def initial(self):\n",
    "        print(\"Welcome this is DR. Experta, we declare your disease result on the basis of facts\\n\")\n",
    "        \n",
    "        yield Fact(action=\"find_disease\")\n",
    "        \n",
    "    @Rule(Fact(action='find_disease'),NOT(Fact(cough=W())),salience=1)\n",
    "    def symptom_0(self):\n",
    "        self.declare(Fact(cough=input(\"cough: \")))  #first\n",
    "    \n",
    "    @Rule(Fact(action='find_disease'),NOT(Fact(diarrhea=W())),salience=1)\n",
    "    def symptom_1(self):\n",
    "        self.declare(Fact(diarrhea=input(\"diarrhea: \")))  #first\n",
    "   \n",
    "    \n",
    "    @Rule(Fact(action='find_disease'),NOT(Fact(respiratory=W())),salience=1)\n",
    "    def symptom_2(self):\n",
    "        self.declare(Fact(respiratory=input(\"respiratory: \")))  #first\n",
    "    \n",
    "    @Rule(Fact(action='find_disease'),NOT(Fact(fever=W())),salience=1)\n",
    "    def symptom_3(self):\n",
    "        self.declare(Fact(fever=input(\"fever: \")))  #first\n",
    "    \n",
    "    @Rule(Fact(action='find_disease'),NOT(Fact(headache=W())),salience=1)\n",
    "    def symptom_4(self):\n",
    "        self.declare(Fact(headache=input(\"headache: \")))  #first\n",
    "    \n",
    "    @Rule(Fact(action='find_disease'),NOT(Fact(muscle_ache=W())),salience=1)\n",
    "    def symptom_5(self):\n",
    "        self.declare(Fact(muscle_ache=input(\"muscle_ache: \")))  #first\n",
    "    \n",
    "    @Rule(Fact(action='find_disease'),NOT(Fact(malaise=W())),salience=1)\n",
    "    def symptom_6(self):\n",
    "        self.declare(Fact(malaise=input(\"malaise: \")))  #first\n",
    "    \n",
    "    @Rule(Fact(action='find_disease'),NOT(Fact(runny_nose=W())),salience=1)   #first\n",
    "    def symptom_7(self):\n",
    "        self.declare(Fact(runny_nose=input(\"runny_nose: \")))  #first\n",
    "    \n",
    "    @Rule(Fact(action='find_disease'),NOT(Fact(sore_throat=W())),salience=1)\n",
    "    def symptom_8(self):\n",
    "        self.declare(Fact(sore_throat=input(\"sore_throat: \")))  #first\n",
    "    @Rule(Fact(action='find_disease'),NOT(Fact(blood_pressure=W())),salience=1)\n",
    "    def symptom_9(self):\n",
    "        self.declare(Fact(blood_pressure=input(\"blood_pressure: \")))  #first\n",
    "    @Rule(Fact(action='find_disease'),NOT(Fact(fatigue=W())),salience=1)\n",
    "    def symptom_10(self):\n",
    "        self.declare(Fact(fatigue=input(\"fatigue: \")))  #first\n",
    "    @Rule(Fact(action='find_disease'),NOT(Fact(shortness_of_breath=W())),salience=1)\n",
    "    def symptom_11(self):\n",
    "        self.declare(Fact(shortness_of_breath=input(\"shortness_of_breath: \")))  #first\n",
    "    \n",
    "    \n",
    "    \n",
    "    @Rule(Fact(action='find_disease'),Fact(cough=\"yes\"),Fact(diarrhea=\"yes\"),\n",
    "          Fact(respiratory=\"yes\"),\n",
    "          Fact(fever=\"yes\"),Fact(headache=\"yes\"),Fact(muscle_ache=\"yes\"),\n",
    "          Fact(malaise=\"yes\"),Fact(runny_nose=\"yes\"),Fact(sore_throat=\"yes\"),Fact(blood_pressure=\"no\"),\n",
    "         Fact(fatigue=\"no\"),Fact(shortness_of_breath=\"no\"))\n",
    "    def disease_0(self):\n",
    "          self.declare(Fact(disease=\"birdflu\"))\n",
    "    @Rule(Fact(action='find_disease'),Fact(cough=\"yes\"),Fact(diarrhea=\"no\"),\n",
    "          Fact(respiratory=\"yes\"),\n",
    "          Fact(fever=\"no\"),Fact(headache=\"yes\"),Fact(muscle_ache=\"yes\"),\n",
    "          Fact(malaise=\"no\"),Fact(runny_nose=\"no\"),Fact(sore_throat=\"yes\"),Fact(blood_pressure=\"yes\"),\n",
    "         Fact(fatigue=\"no\"),Fact(shortness_of_breath=\"no\"))\n",
    "    def disease_1(self):\n",
    "          self.declare(Fact(disease=\"diabetes\"))\n",
    "    @Rule(Fact(action='find_disease'),Fact(cough=\"yes\"),Fact(diarrhea=\"no\"),\n",
    "          Fact(respiratory=\"no\"),\n",
    "          Fact(fever=\"yes\"),Fact(headache=\"no\"),Fact(muscle_ache=\"no\"),\n",
    "          Fact(malaise=\"yes\"),Fact(runny_nose=\"yes\"),Fact(sore_throat=\"yes\"),Fact(blood_pressure=\"yes\"),\n",
    "         Fact(fatigue=\"no\"),Fact(shortness_of_breath=\"yes\"))\n",
    "    def disease_1(self):\n",
    "          self.declare(Fact(disease=\"corona\"))\n",
    "          \n",
    "    @Rule(Fact(action='find_disease'),Fact(disease=MATCH.disease),salience=-998)\n",
    "    def disease(self,disease):\n",
    "        a =disease\n",
    "        \n",
    "        disease_detail=get_description(a)\n",
    "        disease_treatment=get_treatment(a)\n",
    "        print(\"the most probable disease is \"+a+\"\\n\")\n",
    "        print(\"the short description is \"+disease_detail+\"\\n\")\n",
    "        print(\"the common medications are \"+disease_treatment+ \"\\n\")\n",
    "        \n",
    "    @Rule(Fact(action='find_disease'),\n",
    "         Fact(cough=MATCH.cough),\n",
    "         Fact(diarrhea=MATCH.diarrhea),\n",
    "         Fact(respiratory=MATCH.respiratory),\n",
    "         Fact(fever=MATCH.fever),\n",
    "         Fact(headache=MATCH.headache),\n",
    "         Fact(muscle_ache=MATCH.muscle_ache),\n",
    "         Fact(malaise=MATCH.malaise),\n",
    "         Fact(runny_nose=MATCH.runny_nose),\n",
    "         Fact(sore_throat=MATCH.sore_throat),\n",
    "         Fact(blood_pressure=MATCH.blood_pressure),\n",
    "         Fact(fatigue=MATCH.fatigue),\n",
    "         Fact(shortness_of_breath=MATCH.shortness_of_breath),\n",
    "         NOT(Fact(disease=MATCH.disease)),salience=-999)\n",
    "        \n",
    "    def not_matched(self,cough,diarrhea,respiratory,fever,headache,muscle_ache,malaise,runny_nose,sore_throat,blood_pressure,fatigue,shortness_of_breath):\n",
    "        print(\"Your Symptoms doesn't matches our record however,\")\n",
    "        listofsymp=[cough,diarrhea,respiratory,fever,headache,muscle_ache,malaise,runny_nose,sore_throat,blood_pressure,fatigue,shortness_of_breath]\n",
    "        max_count = 0\n",
    "        max_disease = \"\"\n",
    "        for key,val in symptom_map.items():\n",
    "            count = 0\n",
    "            temp = eval(key)\n",
    "            for i in range(0,len(listofsymp)):\n",
    "                if(temp[i] == listofsymp[i] and listofsymp[i] == \"yes\"):\n",
    "                    count = count + 1\n",
    "            if count > max_count:\n",
    "                max_count = count\n",
    "                max_disease = val\n",
    "        if_not_matching(max_disease)\n",
    "\n",
    "    \n",
    "          \n",
    "        "
   ]
  },
  {
   "cell_type": "code",
   "execution_count": 9,
   "metadata": {},
   "outputs": [
    {
     "name": "stdout",
     "output_type": "stream",
     "text": [
      "Welcome this is experta your friendly neighbourhood expert system\n",
      "\n",
      "diarrhea: no\n",
      "malaise: no\n",
      "runny_nose: no\n",
      "fatigue: yes\n",
      "shortness_of_breath: yes\n",
      "cough: yes\n",
      "respiratory: yes\n",
      "blood_pressure: no\n",
      "sore_throat: no\n",
      "muscle_ache: no\n",
      "headache: no\n",
      "fever: yes\n",
      "Your Symptoms doesn't matches our record however,\n",
      "the most probable disease is  Tuberculosis \n",
      "\n",
      "the short description is  Tuberculosis (TB) is a disease caused by bacteria that are spread through the air from person to person. If not treated properly, TB disease can be fatal. People infected with TB bacteria who are not sick can take medication to prevent TB disease from developing in the future. Learn to recognize the symptoms of TB disease and find out if you are at risk. \n",
      "\n",
      "the common medicines are  The most common medications used to treat tuberculosis include:\n",
      "\n",
      "    Isoniazid\n",
      "    Rifampin (Rifadin, Rimactane)\n",
      "    Ethambutol (Myambutol)\n",
      "    Pyrazinamide\n",
      "\n",
      "Some drugs may be used as add-on therapy to the current drug-resistant combination treatment, including:\n",
      "\n",
      "    Bedaquiline (Sirturo)\n",
      "    Linezolid (Zyvox)\n",
      " \n",
      "\n",
      "would you like to add some other symptoms?\n",
      "no\n"
     ]
    }
   ],
   "source": [
    "if __name__==\"__main__\":\n",
    "        preprocess()\n",
    "        engine=Welcome()\n",
    "        while(1):\n",
    "            engine.reset()   #prepare\n",
    "            engine.run()\n",
    "            print(\"would you like to add some other symptoms?\")\n",
    "            if input()==\"no\":\n",
    "                print(\"Thank you for showing up! Hope to cure your disease.\")\n",
    "                break\n",
    "            "
   ]
  },
  {
   "cell_type": "code",
   "execution_count": null,
   "metadata": {},
   "outputs": [],
   "source": [
    "print(engine.facts)"
   ]
  },
  {
   "cell_type": "code",
   "execution_count": null,
   "metadata": {},
   "outputs": [],
   "source": []
  },
  {
   "cell_type": "code",
   "execution_count": null,
   "metadata": {},
   "outputs": [],
   "source": [
    "    "
   ]
  },
  {
   "cell_type": "code",
   "execution_count": null,
   "metadata": {},
   "outputs": [],
   "source": []
  },
  {
   "cell_type": "code",
   "execution_count": null,
   "metadata": {},
   "outputs": [],
   "source": []
  },
  {
   "cell_type": "code",
   "execution_count": null,
   "metadata": {},
   "outputs": [],
   "source": []
  },
  {
   "cell_type": "code",
   "execution_count": null,
   "metadata": {},
   "outputs": [],
   "source": []
  },
  {
   "cell_type": "code",
   "execution_count": null,
   "metadata": {},
   "outputs": [],
   "source": []
  },
  {
   "cell_type": "code",
   "execution_count": null,
   "metadata": {},
   "outputs": [],
   "source": []
  },
  {
   "cell_type": "code",
   "execution_count": null,
   "metadata": {},
   "outputs": [],
   "source": []
  },
  {
   "cell_type": "code",
   "execution_count": null,
   "metadata": {},
   "outputs": [],
   "source": []
  },
  {
   "cell_type": "code",
   "execution_count": null,
   "metadata": {},
   "outputs": [],
   "source": []
  },
  {
   "cell_type": "code",
   "execution_count": null,
   "metadata": {},
   "outputs": [],
   "source": []
  },
  {
   "cell_type": "code",
   "execution_count": null,
   "metadata": {},
   "outputs": [],
   "source": []
  },
  {
   "cell_type": "code",
   "execution_count": null,
   "metadata": {},
   "outputs": [],
   "source": []
  },
  {
   "cell_type": "code",
   "execution_count": null,
   "metadata": {},
   "outputs": [],
   "source": []
  },
  {
   "cell_type": "code",
   "execution_count": null,
   "metadata": {},
   "outputs": [],
   "source": []
  },
  {
   "cell_type": "code",
   "execution_count": null,
   "metadata": {},
   "outputs": [],
   "source": []
  },
  {
   "cell_type": "code",
   "execution_count": null,
   "metadata": {},
   "outputs": [],
   "source": []
  },
  {
   "cell_type": "code",
   "execution_count": null,
   "metadata": {},
   "outputs": [],
   "source": []
  },
  {
   "cell_type": "code",
   "execution_count": null,
   "metadata": {},
   "outputs": [],
   "source": []
  },
  {
   "cell_type": "code",
   "execution_count": null,
   "metadata": {},
   "outputs": [],
   "source": []
  },
  {
   "cell_type": "code",
   "execution_count": null,
   "metadata": {},
   "outputs": [],
   "source": []
  },
  {
   "cell_type": "code",
   "execution_count": null,
   "metadata": {},
   "outputs": [],
   "source": []
  },
  {
   "cell_type": "code",
   "execution_count": null,
   "metadata": {},
   "outputs": [],
   "source": []
  },
  {
   "cell_type": "code",
   "execution_count": null,
   "metadata": {},
   "outputs": [],
   "source": []
  },
  {
   "cell_type": "code",
   "execution_count": null,
   "metadata": {},
   "outputs": [],
   "source": []
  },
  {
   "cell_type": "code",
   "execution_count": null,
   "metadata": {},
   "outputs": [],
   "source": []
  },
  {
   "cell_type": "code",
   "execution_count": null,
   "metadata": {},
   "outputs": [],
   "source": []
  },
  {
   "cell_type": "code",
   "execution_count": null,
   "metadata": {},
   "outputs": [],
   "source": []
  }
 ],
 "metadata": {
  "kernelspec": {
   "display_name": "Python 3",
   "language": "python",
   "name": "python3"
  },
  "language_info": {
   "codemirror_mode": {
    "name": "ipython",
    "version": 3
   },
   "file_extension": ".py",
   "mimetype": "text/x-python",
   "name": "python",
   "nbconvert_exporter": "python",
   "pygments_lexer": "ipython3",
   "version": "3.7.6"
  }
 },
 "nbformat": 4,
 "nbformat_minor": 4
}
